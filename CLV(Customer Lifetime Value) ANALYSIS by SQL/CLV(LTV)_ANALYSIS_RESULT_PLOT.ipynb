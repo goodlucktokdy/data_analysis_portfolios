{
 "cells": [
  {
   "cell_type": "markdown",
   "metadata": {},
   "source": [
    "### **분석주제: 1월부터 6월까지 연령대별 LTV 산출을 통한 새벽배송 서비스의 핵심 고객 파악 및 Python을 통한 시각화**\n",
    "- **by 김동윤**\n",
    "***\n",
    "- **분석대상: 10대 ~ 50대 연령대별 100명 (총 500명)**\n",
    "- **분석기간: 2023년 1월 ~ 2023년 6월** \n",
    "- **지표정의: 단순화를 위해 LTV = AOV(Average Order Value) $*$ Retention rate**\n",
    "- **활용기술: ARPU와 리텐션비율 및 LTV 산출에 DBEAVER을 통한 SQLite사용**\n",
    "***"
   ]
  },
  {
   "cell_type": "code",
   "execution_count": 2,
   "metadata": {},
   "outputs": [],
   "source": [
    "import pandas as pd\n",
    "import numpy as np\n",
    "import plotly.express as px"
   ]
  },
  {
   "cell_type": "code",
   "execution_count": 4,
   "metadata": {},
   "outputs": [
    {
     "data": {
      "text/html": [
       "<div>\n",
       "<style scoped>\n",
       "    .dataframe tbody tr th:only-of-type {\n",
       "        vertical-align: middle;\n",
       "    }\n",
       "\n",
       "    .dataframe tbody tr th {\n",
       "        vertical-align: top;\n",
       "    }\n",
       "\n",
       "    .dataframe thead th {\n",
       "        text-align: right;\n",
       "    }\n",
       "</style>\n",
       "<table border=\"1\" class=\"dataframe\">\n",
       "  <thead>\n",
       "    <tr style=\"text-align: right;\">\n",
       "      <th></th>\n",
       "      <th>age_range</th>\n",
       "      <th>ord_month</th>\n",
       "      <th>retention_rate</th>\n",
       "      <th>arpu</th>\n",
       "      <th>LTV</th>\n",
       "    </tr>\n",
       "  </thead>\n",
       "  <tbody>\n",
       "    <tr>\n",
       "      <th>0</th>\n",
       "      <td>10대</td>\n",
       "      <td>M-1</td>\n",
       "      <td>1.00</td>\n",
       "      <td>26173.42</td>\n",
       "      <td>26173.4200</td>\n",
       "    </tr>\n",
       "    <tr>\n",
       "      <th>1</th>\n",
       "      <td>10대</td>\n",
       "      <td>M-2</td>\n",
       "      <td>0.23</td>\n",
       "      <td>21706.00</td>\n",
       "      <td>4992.3800</td>\n",
       "    </tr>\n",
       "    <tr>\n",
       "      <th>2</th>\n",
       "      <td>10대</td>\n",
       "      <td>M-3</td>\n",
       "      <td>0.17</td>\n",
       "      <td>30574.00</td>\n",
       "      <td>5197.5800</td>\n",
       "    </tr>\n",
       "    <tr>\n",
       "      <th>3</th>\n",
       "      <td>10대</td>\n",
       "      <td>M-4</td>\n",
       "      <td>0.17</td>\n",
       "      <td>40117.50</td>\n",
       "      <td>6819.9750</td>\n",
       "    </tr>\n",
       "    <tr>\n",
       "      <th>4</th>\n",
       "      <td>10대</td>\n",
       "      <td>M-5</td>\n",
       "      <td>0.16</td>\n",
       "      <td>29075.77</td>\n",
       "      <td>4652.1232</td>\n",
       "    </tr>\n",
       "    <tr>\n",
       "      <th>5</th>\n",
       "      <td>10대</td>\n",
       "      <td>M-6</td>\n",
       "      <td>0.11</td>\n",
       "      <td>30439.29</td>\n",
       "      <td>3348.3219</td>\n",
       "    </tr>\n",
       "    <tr>\n",
       "      <th>6</th>\n",
       "      <td>20대</td>\n",
       "      <td>M-1</td>\n",
       "      <td>1.00</td>\n",
       "      <td>27383.10</td>\n",
       "      <td>27383.1000</td>\n",
       "    </tr>\n",
       "    <tr>\n",
       "      <th>7</th>\n",
       "      <td>20대</td>\n",
       "      <td>M-2</td>\n",
       "      <td>0.35</td>\n",
       "      <td>47221.66</td>\n",
       "      <td>16527.5810</td>\n",
       "    </tr>\n",
       "    <tr>\n",
       "      <th>8</th>\n",
       "      <td>20대</td>\n",
       "      <td>M-3</td>\n",
       "      <td>0.30</td>\n",
       "      <td>27859.32</td>\n",
       "      <td>8357.7960</td>\n",
       "    </tr>\n",
       "    <tr>\n",
       "      <th>9</th>\n",
       "      <td>20대</td>\n",
       "      <td>M-4</td>\n",
       "      <td>0.24</td>\n",
       "      <td>37094.24</td>\n",
       "      <td>8902.6176</td>\n",
       "    </tr>\n",
       "    <tr>\n",
       "      <th>10</th>\n",
       "      <td>20대</td>\n",
       "      <td>M-5</td>\n",
       "      <td>0.22</td>\n",
       "      <td>30233.76</td>\n",
       "      <td>6651.4272</td>\n",
       "    </tr>\n",
       "    <tr>\n",
       "      <th>11</th>\n",
       "      <td>20대</td>\n",
       "      <td>M-6</td>\n",
       "      <td>0.19</td>\n",
       "      <td>44176.72</td>\n",
       "      <td>8393.5768</td>\n",
       "    </tr>\n",
       "    <tr>\n",
       "      <th>12</th>\n",
       "      <td>30대</td>\n",
       "      <td>M-1</td>\n",
       "      <td>1.00</td>\n",
       "      <td>35377.84</td>\n",
       "      <td>35377.8400</td>\n",
       "    </tr>\n",
       "    <tr>\n",
       "      <th>13</th>\n",
       "      <td>30대</td>\n",
       "      <td>M-2</td>\n",
       "      <td>0.37</td>\n",
       "      <td>48402.50</td>\n",
       "      <td>17908.9250</td>\n",
       "    </tr>\n",
       "    <tr>\n",
       "      <th>14</th>\n",
       "      <td>30대</td>\n",
       "      <td>M-3</td>\n",
       "      <td>0.31</td>\n",
       "      <td>45275.15</td>\n",
       "      <td>14035.2965</td>\n",
       "    </tr>\n",
       "    <tr>\n",
       "      <th>15</th>\n",
       "      <td>30대</td>\n",
       "      <td>M-4</td>\n",
       "      <td>0.27</td>\n",
       "      <td>39489.37</td>\n",
       "      <td>10662.1299</td>\n",
       "    </tr>\n",
       "    <tr>\n",
       "      <th>16</th>\n",
       "      <td>30대</td>\n",
       "      <td>M-5</td>\n",
       "      <td>0.29</td>\n",
       "      <td>44701.05</td>\n",
       "      <td>12963.3045</td>\n",
       "    </tr>\n",
       "    <tr>\n",
       "      <th>17</th>\n",
       "      <td>30대</td>\n",
       "      <td>M-6</td>\n",
       "      <td>0.26</td>\n",
       "      <td>43097.39</td>\n",
       "      <td>11205.3214</td>\n",
       "    </tr>\n",
       "    <tr>\n",
       "      <th>18</th>\n",
       "      <td>40대</td>\n",
       "      <td>M-1</td>\n",
       "      <td>1.00</td>\n",
       "      <td>32811.99</td>\n",
       "      <td>32811.9900</td>\n",
       "    </tr>\n",
       "    <tr>\n",
       "      <th>19</th>\n",
       "      <td>40대</td>\n",
       "      <td>M-2</td>\n",
       "      <td>0.36</td>\n",
       "      <td>36316.01</td>\n",
       "      <td>13073.7636</td>\n",
       "    </tr>\n",
       "    <tr>\n",
       "      <th>20</th>\n",
       "      <td>40대</td>\n",
       "      <td>M-3</td>\n",
       "      <td>0.24</td>\n",
       "      <td>39311.45</td>\n",
       "      <td>9434.7480</td>\n",
       "    </tr>\n",
       "    <tr>\n",
       "      <th>21</th>\n",
       "      <td>40대</td>\n",
       "      <td>M-4</td>\n",
       "      <td>0.28</td>\n",
       "      <td>38985.07</td>\n",
       "      <td>10915.8196</td>\n",
       "    </tr>\n",
       "    <tr>\n",
       "      <th>22</th>\n",
       "      <td>40대</td>\n",
       "      <td>M-5</td>\n",
       "      <td>0.29</td>\n",
       "      <td>39159.26</td>\n",
       "      <td>11356.1854</td>\n",
       "    </tr>\n",
       "    <tr>\n",
       "      <th>23</th>\n",
       "      <td>40대</td>\n",
       "      <td>M-6</td>\n",
       "      <td>0.26</td>\n",
       "      <td>38881.00</td>\n",
       "      <td>10109.0600</td>\n",
       "    </tr>\n",
       "    <tr>\n",
       "      <th>24</th>\n",
       "      <td>50대</td>\n",
       "      <td>M-1</td>\n",
       "      <td>1.00</td>\n",
       "      <td>31770.41</td>\n",
       "      <td>31770.4100</td>\n",
       "    </tr>\n",
       "    <tr>\n",
       "      <th>25</th>\n",
       "      <td>50대</td>\n",
       "      <td>M-2</td>\n",
       "      <td>0.37</td>\n",
       "      <td>38642.08</td>\n",
       "      <td>14297.5696</td>\n",
       "    </tr>\n",
       "    <tr>\n",
       "      <th>26</th>\n",
       "      <td>50대</td>\n",
       "      <td>M-3</td>\n",
       "      <td>0.26</td>\n",
       "      <td>42157.85</td>\n",
       "      <td>10961.0410</td>\n",
       "    </tr>\n",
       "    <tr>\n",
       "      <th>27</th>\n",
       "      <td>50대</td>\n",
       "      <td>M-4</td>\n",
       "      <td>0.25</td>\n",
       "      <td>47067.31</td>\n",
       "      <td>11766.8275</td>\n",
       "    </tr>\n",
       "    <tr>\n",
       "      <th>28</th>\n",
       "      <td>50대</td>\n",
       "      <td>M-5</td>\n",
       "      <td>0.30</td>\n",
       "      <td>44663.40</td>\n",
       "      <td>13399.0200</td>\n",
       "    </tr>\n",
       "    <tr>\n",
       "      <th>29</th>\n",
       "      <td>50대</td>\n",
       "      <td>M-6</td>\n",
       "      <td>0.23</td>\n",
       "      <td>44307.61</td>\n",
       "      <td>10190.7503</td>\n",
       "    </tr>\n",
       "  </tbody>\n",
       "</table>\n",
       "</div>"
      ],
      "text/plain": [
       "   age_range ord_month  retention_rate      arpu         LTV\n",
       "0        10대       M-1            1.00  26173.42  26173.4200\n",
       "1        10대       M-2            0.23  21706.00   4992.3800\n",
       "2        10대       M-3            0.17  30574.00   5197.5800\n",
       "3        10대       M-4            0.17  40117.50   6819.9750\n",
       "4        10대       M-5            0.16  29075.77   4652.1232\n",
       "5        10대       M-6            0.11  30439.29   3348.3219\n",
       "6        20대       M-1            1.00  27383.10  27383.1000\n",
       "7        20대       M-2            0.35  47221.66  16527.5810\n",
       "8        20대       M-3            0.30  27859.32   8357.7960\n",
       "9        20대       M-4            0.24  37094.24   8902.6176\n",
       "10       20대       M-5            0.22  30233.76   6651.4272\n",
       "11       20대       M-6            0.19  44176.72   8393.5768\n",
       "12       30대       M-1            1.00  35377.84  35377.8400\n",
       "13       30대       M-2            0.37  48402.50  17908.9250\n",
       "14       30대       M-3            0.31  45275.15  14035.2965\n",
       "15       30대       M-4            0.27  39489.37  10662.1299\n",
       "16       30대       M-5            0.29  44701.05  12963.3045\n",
       "17       30대       M-6            0.26  43097.39  11205.3214\n",
       "18       40대       M-1            1.00  32811.99  32811.9900\n",
       "19       40대       M-2            0.36  36316.01  13073.7636\n",
       "20       40대       M-3            0.24  39311.45   9434.7480\n",
       "21       40대       M-4            0.28  38985.07  10915.8196\n",
       "22       40대       M-5            0.29  39159.26  11356.1854\n",
       "23       40대       M-6            0.26  38881.00  10109.0600\n",
       "24       50대       M-1            1.00  31770.41  31770.4100\n",
       "25       50대       M-2            0.37  38642.08  14297.5696\n",
       "26       50대       M-3            0.26  42157.85  10961.0410\n",
       "27       50대       M-4            0.25  47067.31  11766.8275\n",
       "28       50대       M-5            0.30  44663.40  13399.0200\n",
       "29       50대       M-6            0.23  44307.61  10190.7503"
      ]
     },
     "execution_count": 4,
     "metadata": {},
     "output_type": "execute_result"
    }
   ],
   "source": [
    "ltv_data = pd.read_csv('ARPU_RETENTION_202404242235.csv',encoding='utf8')\n",
    "ltv_data"
   ]
  },
  {
   "cell_type": "code",
   "execution_count": 10,
   "metadata": {},
   "outputs": [
    {
     "name": "stderr",
     "output_type": "stream",
     "text": [
      "c:\\Users\\kd010\\miniconda3\\envs\\rapids\\Lib\\site-packages\\plotly\\express\\_core.py:1979: FutureWarning:\n",
      "\n",
      "When grouping with a length-1 list-like, you will need to pass a length-1 tuple to get_group in a future version of pandas. Pass `(name,)` instead of `name` to silence this warning.\n",
      "\n"
     ]
    },
    {
     "data": {
      "application/vnd.plotly.v1+json": {
       "config": {
        "plotlyServerURL": "https://plot.ly"
       },
       "data": [
        {
         "hovertemplate": "연령대=10대<br>MONTH=%{x}<br>LTV=%{y}<extra></extra>",
         "legendgroup": "10대",
         "line": {
          "color": "#636efa",
          "dash": "solid"
         },
         "marker": {
          "symbol": "circle"
         },
         "mode": "lines",
         "name": "10대",
         "orientation": "v",
         "showlegend": true,
         "type": "scatter",
         "x": [
          "M-1",
          "M-2",
          "M-3",
          "M-4",
          "M-5",
          "M-6"
         ],
         "xaxis": "x",
         "y": [
          26173.42,
          4992.38,
          5197.58,
          6819.975,
          4652.1232,
          3348.3219
         ],
         "yaxis": "y"
        },
        {
         "hovertemplate": "연령대=20대<br>MONTH=%{x}<br>LTV=%{y}<extra></extra>",
         "legendgroup": "20대",
         "line": {
          "color": "#EF553B",
          "dash": "solid"
         },
         "marker": {
          "symbol": "circle"
         },
         "mode": "lines",
         "name": "20대",
         "orientation": "v",
         "showlegend": true,
         "type": "scatter",
         "x": [
          "M-1",
          "M-2",
          "M-3",
          "M-4",
          "M-5",
          "M-6"
         ],
         "xaxis": "x",
         "y": [
          27383.1,
          16527.581000000002,
          8357.796,
          8902.6176,
          6651.4272,
          8393.5768
         ],
         "yaxis": "y"
        },
        {
         "hovertemplate": "연령대=30대<br>MONTH=%{x}<br>LTV=%{y}<extra></extra>",
         "legendgroup": "30대",
         "line": {
          "color": "#00cc96",
          "dash": "solid"
         },
         "marker": {
          "symbol": "circle"
         },
         "mode": "lines",
         "name": "30대",
         "orientation": "v",
         "showlegend": true,
         "type": "scatter",
         "x": [
          "M-1",
          "M-2",
          "M-3",
          "M-4",
          "M-5",
          "M-6"
         ],
         "xaxis": "x",
         "y": [
          35377.84,
          17908.925,
          14035.2965,
          10662.129900000002,
          12963.3045,
          11205.3214
         ],
         "yaxis": "y"
        },
        {
         "hovertemplate": "연령대=40대<br>MONTH=%{x}<br>LTV=%{y}<extra></extra>",
         "legendgroup": "40대",
         "line": {
          "color": "#ab63fa",
          "dash": "solid"
         },
         "marker": {
          "symbol": "circle"
         },
         "mode": "lines",
         "name": "40대",
         "orientation": "v",
         "showlegend": true,
         "type": "scatter",
         "x": [
          "M-1",
          "M-2",
          "M-3",
          "M-4",
          "M-5",
          "M-6"
         ],
         "xaxis": "x",
         "y": [
          32811.99,
          13073.7636,
          9434.748,
          10915.8196,
          11356.1854,
          10109.06
         ],
         "yaxis": "y"
        },
        {
         "hovertemplate": "연령대=50대<br>MONTH=%{x}<br>LTV=%{y}<extra></extra>",
         "legendgroup": "50대",
         "line": {
          "color": "#FFA15A",
          "dash": "solid"
         },
         "marker": {
          "symbol": "circle"
         },
         "mode": "lines",
         "name": "50대",
         "orientation": "v",
         "showlegend": true,
         "type": "scatter",
         "x": [
          "M-1",
          "M-2",
          "M-3",
          "M-4",
          "M-5",
          "M-6"
         ],
         "xaxis": "x",
         "y": [
          31770.41,
          14297.5696,
          10961.041,
          11766.8275,
          13399.02,
          10190.7503
         ],
         "yaxis": "y"
        }
       ],
       "layout": {
        "legend": {
         "title": {
          "text": "연령대"
         },
         "tracegroupgap": 0
        },
        "template": {
         "data": {
          "bar": [
           {
            "error_x": {
             "color": "#2a3f5f"
            },
            "error_y": {
             "color": "#2a3f5f"
            },
            "marker": {
             "line": {
              "color": "#E5ECF6",
              "width": 0.5
             },
             "pattern": {
              "fillmode": "overlay",
              "size": 10,
              "solidity": 0.2
             }
            },
            "type": "bar"
           }
          ],
          "barpolar": [
           {
            "marker": {
             "line": {
              "color": "#E5ECF6",
              "width": 0.5
             },
             "pattern": {
              "fillmode": "overlay",
              "size": 10,
              "solidity": 0.2
             }
            },
            "type": "barpolar"
           }
          ],
          "carpet": [
           {
            "aaxis": {
             "endlinecolor": "#2a3f5f",
             "gridcolor": "white",
             "linecolor": "white",
             "minorgridcolor": "white",
             "startlinecolor": "#2a3f5f"
            },
            "baxis": {
             "endlinecolor": "#2a3f5f",
             "gridcolor": "white",
             "linecolor": "white",
             "minorgridcolor": "white",
             "startlinecolor": "#2a3f5f"
            },
            "type": "carpet"
           }
          ],
          "choropleth": [
           {
            "colorbar": {
             "outlinewidth": 0,
             "ticks": ""
            },
            "type": "choropleth"
           }
          ],
          "contour": [
           {
            "colorbar": {
             "outlinewidth": 0,
             "ticks": ""
            },
            "colorscale": [
             [
              0,
              "#0d0887"
             ],
             [
              0.1111111111111111,
              "#46039f"
             ],
             [
              0.2222222222222222,
              "#7201a8"
             ],
             [
              0.3333333333333333,
              "#9c179e"
             ],
             [
              0.4444444444444444,
              "#bd3786"
             ],
             [
              0.5555555555555556,
              "#d8576b"
             ],
             [
              0.6666666666666666,
              "#ed7953"
             ],
             [
              0.7777777777777778,
              "#fb9f3a"
             ],
             [
              0.8888888888888888,
              "#fdca26"
             ],
             [
              1,
              "#f0f921"
             ]
            ],
            "type": "contour"
           }
          ],
          "contourcarpet": [
           {
            "colorbar": {
             "outlinewidth": 0,
             "ticks": ""
            },
            "type": "contourcarpet"
           }
          ],
          "heatmap": [
           {
            "colorbar": {
             "outlinewidth": 0,
             "ticks": ""
            },
            "colorscale": [
             [
              0,
              "#0d0887"
             ],
             [
              0.1111111111111111,
              "#46039f"
             ],
             [
              0.2222222222222222,
              "#7201a8"
             ],
             [
              0.3333333333333333,
              "#9c179e"
             ],
             [
              0.4444444444444444,
              "#bd3786"
             ],
             [
              0.5555555555555556,
              "#d8576b"
             ],
             [
              0.6666666666666666,
              "#ed7953"
             ],
             [
              0.7777777777777778,
              "#fb9f3a"
             ],
             [
              0.8888888888888888,
              "#fdca26"
             ],
             [
              1,
              "#f0f921"
             ]
            ],
            "type": "heatmap"
           }
          ],
          "heatmapgl": [
           {
            "colorbar": {
             "outlinewidth": 0,
             "ticks": ""
            },
            "colorscale": [
             [
              0,
              "#0d0887"
             ],
             [
              0.1111111111111111,
              "#46039f"
             ],
             [
              0.2222222222222222,
              "#7201a8"
             ],
             [
              0.3333333333333333,
              "#9c179e"
             ],
             [
              0.4444444444444444,
              "#bd3786"
             ],
             [
              0.5555555555555556,
              "#d8576b"
             ],
             [
              0.6666666666666666,
              "#ed7953"
             ],
             [
              0.7777777777777778,
              "#fb9f3a"
             ],
             [
              0.8888888888888888,
              "#fdca26"
             ],
             [
              1,
              "#f0f921"
             ]
            ],
            "type": "heatmapgl"
           }
          ],
          "histogram": [
           {
            "marker": {
             "pattern": {
              "fillmode": "overlay",
              "size": 10,
              "solidity": 0.2
             }
            },
            "type": "histogram"
           }
          ],
          "histogram2d": [
           {
            "colorbar": {
             "outlinewidth": 0,
             "ticks": ""
            },
            "colorscale": [
             [
              0,
              "#0d0887"
             ],
             [
              0.1111111111111111,
              "#46039f"
             ],
             [
              0.2222222222222222,
              "#7201a8"
             ],
             [
              0.3333333333333333,
              "#9c179e"
             ],
             [
              0.4444444444444444,
              "#bd3786"
             ],
             [
              0.5555555555555556,
              "#d8576b"
             ],
             [
              0.6666666666666666,
              "#ed7953"
             ],
             [
              0.7777777777777778,
              "#fb9f3a"
             ],
             [
              0.8888888888888888,
              "#fdca26"
             ],
             [
              1,
              "#f0f921"
             ]
            ],
            "type": "histogram2d"
           }
          ],
          "histogram2dcontour": [
           {
            "colorbar": {
             "outlinewidth": 0,
             "ticks": ""
            },
            "colorscale": [
             [
              0,
              "#0d0887"
             ],
             [
              0.1111111111111111,
              "#46039f"
             ],
             [
              0.2222222222222222,
              "#7201a8"
             ],
             [
              0.3333333333333333,
              "#9c179e"
             ],
             [
              0.4444444444444444,
              "#bd3786"
             ],
             [
              0.5555555555555556,
              "#d8576b"
             ],
             [
              0.6666666666666666,
              "#ed7953"
             ],
             [
              0.7777777777777778,
              "#fb9f3a"
             ],
             [
              0.8888888888888888,
              "#fdca26"
             ],
             [
              1,
              "#f0f921"
             ]
            ],
            "type": "histogram2dcontour"
           }
          ],
          "mesh3d": [
           {
            "colorbar": {
             "outlinewidth": 0,
             "ticks": ""
            },
            "type": "mesh3d"
           }
          ],
          "parcoords": [
           {
            "line": {
             "colorbar": {
              "outlinewidth": 0,
              "ticks": ""
             }
            },
            "type": "parcoords"
           }
          ],
          "pie": [
           {
            "automargin": true,
            "type": "pie"
           }
          ],
          "scatter": [
           {
            "fillpattern": {
             "fillmode": "overlay",
             "size": 10,
             "solidity": 0.2
            },
            "type": "scatter"
           }
          ],
          "scatter3d": [
           {
            "line": {
             "colorbar": {
              "outlinewidth": 0,
              "ticks": ""
             }
            },
            "marker": {
             "colorbar": {
              "outlinewidth": 0,
              "ticks": ""
             }
            },
            "type": "scatter3d"
           }
          ],
          "scattercarpet": [
           {
            "marker": {
             "colorbar": {
              "outlinewidth": 0,
              "ticks": ""
             }
            },
            "type": "scattercarpet"
           }
          ],
          "scattergeo": [
           {
            "marker": {
             "colorbar": {
              "outlinewidth": 0,
              "ticks": ""
             }
            },
            "type": "scattergeo"
           }
          ],
          "scattergl": [
           {
            "marker": {
             "colorbar": {
              "outlinewidth": 0,
              "ticks": ""
             }
            },
            "type": "scattergl"
           }
          ],
          "scattermapbox": [
           {
            "marker": {
             "colorbar": {
              "outlinewidth": 0,
              "ticks": ""
             }
            },
            "type": "scattermapbox"
           }
          ],
          "scatterpolar": [
           {
            "marker": {
             "colorbar": {
              "outlinewidth": 0,
              "ticks": ""
             }
            },
            "type": "scatterpolar"
           }
          ],
          "scatterpolargl": [
           {
            "marker": {
             "colorbar": {
              "outlinewidth": 0,
              "ticks": ""
             }
            },
            "type": "scatterpolargl"
           }
          ],
          "scatterternary": [
           {
            "marker": {
             "colorbar": {
              "outlinewidth": 0,
              "ticks": ""
             }
            },
            "type": "scatterternary"
           }
          ],
          "surface": [
           {
            "colorbar": {
             "outlinewidth": 0,
             "ticks": ""
            },
            "colorscale": [
             [
              0,
              "#0d0887"
             ],
             [
              0.1111111111111111,
              "#46039f"
             ],
             [
              0.2222222222222222,
              "#7201a8"
             ],
             [
              0.3333333333333333,
              "#9c179e"
             ],
             [
              0.4444444444444444,
              "#bd3786"
             ],
             [
              0.5555555555555556,
              "#d8576b"
             ],
             [
              0.6666666666666666,
              "#ed7953"
             ],
             [
              0.7777777777777778,
              "#fb9f3a"
             ],
             [
              0.8888888888888888,
              "#fdca26"
             ],
             [
              1,
              "#f0f921"
             ]
            ],
            "type": "surface"
           }
          ],
          "table": [
           {
            "cells": {
             "fill": {
              "color": "#EBF0F8"
             },
             "line": {
              "color": "white"
             }
            },
            "header": {
             "fill": {
              "color": "#C8D4E3"
             },
             "line": {
              "color": "white"
             }
            },
            "type": "table"
           }
          ]
         },
         "layout": {
          "annotationdefaults": {
           "arrowcolor": "#2a3f5f",
           "arrowhead": 0,
           "arrowwidth": 1
          },
          "autotypenumbers": "strict",
          "coloraxis": {
           "colorbar": {
            "outlinewidth": 0,
            "ticks": ""
           }
          },
          "colorscale": {
           "diverging": [
            [
             0,
             "#8e0152"
            ],
            [
             0.1,
             "#c51b7d"
            ],
            [
             0.2,
             "#de77ae"
            ],
            [
             0.3,
             "#f1b6da"
            ],
            [
             0.4,
             "#fde0ef"
            ],
            [
             0.5,
             "#f7f7f7"
            ],
            [
             0.6,
             "#e6f5d0"
            ],
            [
             0.7,
             "#b8e186"
            ],
            [
             0.8,
             "#7fbc41"
            ],
            [
             0.9,
             "#4d9221"
            ],
            [
             1,
             "#276419"
            ]
           ],
           "sequential": [
            [
             0,
             "#0d0887"
            ],
            [
             0.1111111111111111,
             "#46039f"
            ],
            [
             0.2222222222222222,
             "#7201a8"
            ],
            [
             0.3333333333333333,
             "#9c179e"
            ],
            [
             0.4444444444444444,
             "#bd3786"
            ],
            [
             0.5555555555555556,
             "#d8576b"
            ],
            [
             0.6666666666666666,
             "#ed7953"
            ],
            [
             0.7777777777777778,
             "#fb9f3a"
            ],
            [
             0.8888888888888888,
             "#fdca26"
            ],
            [
             1,
             "#f0f921"
            ]
           ],
           "sequentialminus": [
            [
             0,
             "#0d0887"
            ],
            [
             0.1111111111111111,
             "#46039f"
            ],
            [
             0.2222222222222222,
             "#7201a8"
            ],
            [
             0.3333333333333333,
             "#9c179e"
            ],
            [
             0.4444444444444444,
             "#bd3786"
            ],
            [
             0.5555555555555556,
             "#d8576b"
            ],
            [
             0.6666666666666666,
             "#ed7953"
            ],
            [
             0.7777777777777778,
             "#fb9f3a"
            ],
            [
             0.8888888888888888,
             "#fdca26"
            ],
            [
             1,
             "#f0f921"
            ]
           ]
          },
          "colorway": [
           "#636efa",
           "#EF553B",
           "#00cc96",
           "#ab63fa",
           "#FFA15A",
           "#19d3f3",
           "#FF6692",
           "#B6E880",
           "#FF97FF",
           "#FECB52"
          ],
          "font": {
           "color": "#2a3f5f"
          },
          "geo": {
           "bgcolor": "white",
           "lakecolor": "white",
           "landcolor": "#E5ECF6",
           "showlakes": true,
           "showland": true,
           "subunitcolor": "white"
          },
          "hoverlabel": {
           "align": "left"
          },
          "hovermode": "closest",
          "mapbox": {
           "style": "light"
          },
          "paper_bgcolor": "white",
          "plot_bgcolor": "#E5ECF6",
          "polar": {
           "angularaxis": {
            "gridcolor": "white",
            "linecolor": "white",
            "ticks": ""
           },
           "bgcolor": "#E5ECF6",
           "radialaxis": {
            "gridcolor": "white",
            "linecolor": "white",
            "ticks": ""
           }
          },
          "scene": {
           "xaxis": {
            "backgroundcolor": "#E5ECF6",
            "gridcolor": "white",
            "gridwidth": 2,
            "linecolor": "white",
            "showbackground": true,
            "ticks": "",
            "zerolinecolor": "white"
           },
           "yaxis": {
            "backgroundcolor": "#E5ECF6",
            "gridcolor": "white",
            "gridwidth": 2,
            "linecolor": "white",
            "showbackground": true,
            "ticks": "",
            "zerolinecolor": "white"
           },
           "zaxis": {
            "backgroundcolor": "#E5ECF6",
            "gridcolor": "white",
            "gridwidth": 2,
            "linecolor": "white",
            "showbackground": true,
            "ticks": "",
            "zerolinecolor": "white"
           }
          },
          "shapedefaults": {
           "line": {
            "color": "#2a3f5f"
           }
          },
          "ternary": {
           "aaxis": {
            "gridcolor": "white",
            "linecolor": "white",
            "ticks": ""
           },
           "baxis": {
            "gridcolor": "white",
            "linecolor": "white",
            "ticks": ""
           },
           "bgcolor": "#E5ECF6",
           "caxis": {
            "gridcolor": "white",
            "linecolor": "white",
            "ticks": ""
           }
          },
          "title": {
           "x": 0.05
          },
          "xaxis": {
           "automargin": true,
           "gridcolor": "white",
           "linecolor": "white",
           "ticks": "",
           "title": {
            "standoff": 15
           },
           "zerolinecolor": "white",
           "zerolinewidth": 2
          },
          "yaxis": {
           "automargin": true,
           "gridcolor": "white",
           "linecolor": "white",
           "ticks": "",
           "title": {
            "standoff": 15
           },
           "zerolinecolor": "white",
           "zerolinewidth": 2
          }
         }
        },
        "title": {
         "text": "코호트별 월별 새벽배송 핵심고객 파악을 위한 LTV 산출"
        },
        "xaxis": {
         "anchor": "y",
         "domain": [
          0,
          1
         ],
         "title": {
          "text": "MONTH"
         }
        },
        "yaxis": {
         "anchor": "x",
         "domain": [
          0,
          1
         ],
         "title": {
          "text": "LTV"
         }
        }
       }
      }
     },
     "metadata": {},
     "output_type": "display_data"
    }
   ],
   "source": [
    "fig = px.line(ltv_data,x='ord_month',y='LTV',color='age_range',\n",
    "              title = '코호트별 월별 새벽배송 핵심고객 파악을 위한 LTV 산출',\n",
    "        labels={\n",
    "                'age_range':'연령대',\n",
    "                'arpu':'주문 1건당 매출',\n",
    "                'ord_month':'MONTH'\n",
    "        })\n",
    "fig"
   ]
  },
  {
   "cell_type": "code",
   "execution_count": null,
   "metadata": {},
   "outputs": [],
   "source": []
  },
  {
   "cell_type": "code",
   "execution_count": null,
   "metadata": {},
   "outputs": [],
   "source": []
  },
  {
   "cell_type": "code",
   "execution_count": null,
   "metadata": {},
   "outputs": [],
   "source": []
  },
  {
   "cell_type": "code",
   "execution_count": null,
   "metadata": {},
   "outputs": [],
   "source": []
  }
 ],
 "metadata": {
  "kernelspec": {
   "display_name": "rapids",
   "language": "python",
   "name": "python3"
  },
  "language_info": {
   "codemirror_mode": {
    "name": "ipython",
    "version": 3
   },
   "file_extension": ".py",
   "mimetype": "text/x-python",
   "name": "python",
   "nbconvert_exporter": "python",
   "pygments_lexer": "ipython3",
   "version": "3.11.8"
  }
 },
 "nbformat": 4,
 "nbformat_minor": 2
}
